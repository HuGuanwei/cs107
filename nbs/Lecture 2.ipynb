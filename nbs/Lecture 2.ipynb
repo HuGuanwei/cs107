{
 "cells": [
  {
   "cell_type": "markdown",
   "metadata": {},
   "source": [
    "# Lecture 2"
   ]
  },
  {
   "cell_type": "markdown",
   "metadata": {},
   "source": [
    "### C / C++ Date Type\n",
    "\n",
    "data type | size   \n",
    "-|-\n",
    "bool  | 1 byte \n",
    "char  | 1 byte\n",
    "short | 2 bytes\n",
    "int   | 2 / 4 bytes\n",
    "long  | 4 bytes\n",
    "float | 4 bytes\n",
    "double| 8 bytes\n",
    "\n",
    "\n",
    "\n",
    "### Binary Representation\n",
    "\n",
    "#### binary digit: bit\n",
    "\n",
    "`char`: ASCII\n",
    "\n",
    "*Question*: How do we represent a negative number?\n",
    "- sign bit: `0` means positive; `1` means negative.\n",
    "- `neagative_num = ~positive_num + 1`\n",
    "\n",
    "\n",
    "```python\n",
    ">>> num = 9876 # python\n",
    ">>> ~num + 1\n",
    "-9876\n",
    "```"
   ]
  },
  {
   "cell_type": "code",
   "execution_count": 1,
   "metadata": {},
   "outputs": [],
   "source": [
    "#include <iostream>\n",
    "using namespace std;\n",
    "\n",
    "int i;\n",
    "short s;\n",
    "float f;\n",
    "char ch;"
   ]
  },
  {
   "cell_type": "code",
   "execution_count": 2,
   "metadata": {},
   "outputs": [
    {
     "name": "stdout",
     "output_type": "stream",
     "text": [
      "65"
     ]
    }
   ],
   "source": [
    "ch = 'A';\n",
    "s = ch;\n",
    "cout << s;"
   ]
  },
  {
   "cell_type": "code",
   "execution_count": 3,
   "metadata": {},
   "outputs": [
    {
     "name": "stdout",
     "output_type": "stream",
     "text": [
      "C"
     ]
    }
   ],
   "source": [
    "s = 67;\n",
    "ch = s;\n",
    "cout << ch;"
   ]
  },
  {
   "cell_type": "code",
   "execution_count": 4,
   "metadata": {},
   "outputs": [
    {
     "name": "stdout",
     "output_type": "stream",
     "text": [
      "1033"
     ]
    }
   ],
   "source": [
    "s = 0b10000001001;\n",
    "i = s;\n",
    "cout << i;"
   ]
  },
  {
   "cell_type": "code",
   "execution_count": 5,
   "metadata": {},
   "outputs": [
    {
     "name": "stdout",
     "output_type": "stream",
     "text": [
      "-1"
     ]
    }
   ],
   "source": [
    "s = -1; //                       [1111'1111][1111'1111]\n",
    "i = s;  // [1111'1111][1111'1111][1111'1111][1111'1111] sign extend\n",
    "cout << i;"
   ]
  },
  {
   "cell_type": "markdown",
   "metadata": {},
   "source": [
    "#### floaring point number\n",
    "\n",
    "`[s: sign bit][exp: 8 bits][.xxxxx 23 bits]`\n",
    "\n",
    "$f = (-1)^s \\cdot 1.\\text{xxxxx} \\cdot 2^{[\\exp-127]}$"
   ]
  },
  {
   "cell_type": "code",
   "execution_count": 6,
   "metadata": {},
   "outputs": [
    {
     "name": "stdout",
     "output_type": "stream",
     "text": [
      "5"
     ]
    }
   ],
   "source": [
    "i = 5;\n",
    "f = i;\n",
    "cout << f;"
   ]
  },
  {
   "cell_type": "code",
   "execution_count": 18,
   "metadata": {},
   "outputs": [
    {
     "name": "stdout",
     "output_type": "stream",
     "text": [
      "4.48416e-44"
     ]
    }
   ],
   "source": [
    "i = 32;\n",
    "f = *(float*)&i;\n",
    "cout << f;"
   ]
  },
  {
   "cell_type": "code",
   "execution_count": 19,
   "metadata": {},
   "outputs": [
    {
     "name": "stdout",
     "output_type": "stream",
     "text": [
      "0"
     ]
    }
   ],
   "source": [
    "f = 7.0;\n",
    "s = *(short*)&f;\n",
    "cout << s;"
   ]
  },
  {
   "cell_type": "code",
   "execution_count": null,
   "metadata": {},
   "outputs": [],
   "source": []
  }
 ],
 "metadata": {
  "kernelspec": {
   "display_name": "C++11",
   "language": "C++11",
   "name": "xcpp11"
  },
  "language_info": {
   "codemirror_mode": "text/x-c++src",
   "file_extension": ".cpp",
   "mimetype": "text/x-c++src",
   "name": "c++",
   "version": "-std=c++11"
  }
 },
 "nbformat": 4,
 "nbformat_minor": 2
}
