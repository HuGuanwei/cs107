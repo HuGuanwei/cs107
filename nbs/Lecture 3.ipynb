{
 "cells": [
  {
   "cell_type": "markdown",
   "metadata": {},
   "source": [
    "# Lecture 2"
   ]
  },
  {
   "cell_type": "markdown",
   "metadata": {},
   "source": [
    "### Review"
   ]
  },
  {
   "cell_type": "code",
   "execution_count": 1,
   "metadata": {},
   "outputs": [],
   "source": [
    "char ch;\n",
    "short s;\n",
    "double d;"
   ]
  },
  {
   "cell_type": "code",
   "execution_count": 2,
   "metadata": {},
   "outputs": [
    {
     "data": {
      "text/plain": [
       "'0xa7'"
      ]
     },
     "execution_count": 2,
     "metadata": {},
     "output_type": "execute_result"
    }
   ],
   "source": [
    "d = 3.1416;\n",
    "ch = *(char*)&d;\n",
    "ch"
   ]
  },
  {
   "cell_type": "code",
   "execution_count": 3,
   "metadata": {},
   "outputs": [
    {
     "data": {
      "text/plain": [
       "-1.34318e+196"
      ]
     },
     "execution_count": 3,
     "metadata": {},
     "output_type": "execute_result"
    }
   ],
   "source": [
    "s = 45;\n",
    "d = *(double*)&s;\n",
    "d"
   ]
  },
  {
   "cell_type": "markdown",
   "metadata": {},
   "source": [
    "### `struct, array`"
   ]
  },
  {
   "cell_type": "code",
   "execution_count": 4,
   "metadata": {},
   "outputs": [],
   "source": [
    "struct fraction {\n",
    "    int num;\n",
    "    int denum;\n",
    "};\n",
    "\n",
    "fraction pi;\n",
    "pi.num = 22;\n",
    "pi.denum = 7;"
   ]
  },
  {
   "cell_type": "code",
   "execution_count": 5,
   "metadata": {},
   "outputs": [],
   "source": [
    "((fraction*)&(pi.num))->num = 12;\n",
    "((fraction*)&(pi.denum))->denum = 33;"
   ]
  },
  {
   "cell_type": "code",
   "execution_count": 6,
   "metadata": {},
   "outputs": [
    {
     "name": "stderr",
     "output_type": "stream",
     "text": [
      "\u001b[1minput_line_16:6:1: \u001b[0m\u001b[0;1;35mwarning: \u001b[0m\u001b[1marray index 10 is past the end of the array (which contains 10 elements) [-Warray-bounds]\u001b[0m\n",
      "arr[10] = 1;\n",
      "\u001b[0;1;32m^   ~~\n",
      "\u001b[0m\u001b[1minput_line_16:2:2: \u001b[0m\u001b[0;1;30mnote: \u001b[0marray 'arr' declared here\u001b[0m\n",
      " int arr[10];\n",
      "\u001b[0;1;32m ^\n",
      "\u001b[0m\u001b[1minput_line_16:7:1: \u001b[0m\u001b[0;1;35mwarning: \u001b[0m\u001b[1marray index -4 is before the beginning of the array [-Warray-bounds]\u001b[0m\n",
      "arr[-4] = 77;\n",
      "\u001b[0;1;32m^   ~~\n",
      "\u001b[0m\u001b[1minput_line_16:2:2: \u001b[0m\u001b[0;1;30mnote: \u001b[0marray 'arr' declared here\u001b[0m\n",
      " int arr[10];\n",
      "\u001b[0;1;32m ^\n",
      "\u001b[0m"
     ]
    }
   ],
   "source": [
    "int arr[10];\n",
    "/*\n",
    "arr itself is synonymous with the address of the zeroth entry.\n",
    "i.e. array is the same as &array[0]\n",
    "     array + k            &array[k]\n",
    "     \n",
    "     *array                array[0]\n",
    "     *(array + k)          array[k]\n",
    "\n",
    "*/\n",
    "\n",
    "arr[0] = 44;\n",
    "arr[9] = 100;\n",
    "arr[5] = 45;\n",
    "\n",
    "arr[10] = 1;  // *(arr + 10) = 1;\n",
    "arr[-4] = 77; // *(arr - 4) = 77;"
   ]
  },
  {
   "cell_type": "code",
   "execution_count": 7,
   "metadata": {},
   "outputs": [
    {
     "data": {
      "text/plain": [
       "131072"
      ]
     },
     "execution_count": 7,
     "metadata": {},
     "output_type": "execute_result"
    }
   ],
   "source": [
    "int array[5];\n",
    "array[3] = 128;\n",
    "((short*)arr)[7] = 2;\n",
    "arr[3]"
   ]
  },
  {
   "cell_type": "markdown",
   "metadata": {},
   "source": [
    "### swap"
   ]
  },
  {
   "cell_type": "code",
   "execution_count": 8,
   "metadata": {},
   "outputs": [],
   "source": [
    "void swap(int* ap, int* bp) {\n",
    "    int tmp = *ap;\n",
    "    *ap = *bp;\n",
    "    *bp = tmp;\n",
    "}\n",
    "\n",
    "int x = 7;\n",
    "int y = 117;\n",
    "swap(&x, &y);"
   ]
  },
  {
   "cell_type": "code",
   "execution_count": 9,
   "metadata": {},
   "outputs": [
    {
     "data": {
      "text/plain": [
       "117"
      ]
     },
     "execution_count": 9,
     "metadata": {},
     "output_type": "execute_result"
    }
   ],
   "source": [
    "x"
   ]
  },
  {
   "cell_type": "code",
   "execution_count": 10,
   "metadata": {},
   "outputs": [
    {
     "data": {
      "text/plain": [
       "7"
      ]
     },
     "execution_count": 10,
     "metadata": {},
     "output_type": "execute_result"
    }
   ],
   "source": [
    "y"
   ]
  },
  {
   "cell_type": "code",
   "execution_count": null,
   "metadata": {},
   "outputs": [],
   "source": []
  }
 ],
 "metadata": {
  "kernelspec": {
   "display_name": "C++11",
   "language": "C++11",
   "name": "xcpp11"
  },
  "language_info": {
   "codemirror_mode": "text/x-c++src",
   "file_extension": ".cpp",
   "mimetype": "text/x-c++src",
   "name": "c++",
   "version": "-std=c++11"
  }
 },
 "nbformat": 4,
 "nbformat_minor": 2
}
